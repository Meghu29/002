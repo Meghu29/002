{
 "cells": [
  {
   "cell_type": "markdown",
   "id": "3e57b355",
   "metadata": {
    "_cell_guid": "b1076dfc-b9ad-4769-8c92-a6c4dae69d19",
    "_uuid": "8f2839f25d086af736a60e9eeb907d3b93b6e0e5",
    "execution": {
     "iopub.execute_input": "2023-10-12T18:36:33.406448Z",
     "iopub.status.busy": "2023-10-12T18:36:33.406074Z",
     "iopub.status.idle": "2023-10-12T18:36:33.443760Z",
     "shell.execute_reply": "2023-10-12T18:36:33.442619Z",
     "shell.execute_reply.started": "2023-10-12T18:36:33.406411Z"
    },
    "papermill": {
     "duration": 0.007799,
     "end_time": "2023-10-12T19:09:00.031780",
     "exception": false,
     "start_time": "2023-10-12T19:09:00.023981",
     "status": "completed"
    },
    "tags": []
   },
   "source": [
    "### The Iris flower classification dataset comprises 150 samples of Iris flowers, categorized into three species:\n",
    "\n",
    "1. Iris setosa\n",
    "2. Iris versicolor\n",
    "3. Iris virginica\n",
    "\n",
    "### The data set contains 3 classes of 50 instances each, where each class refers to a type of iris plant.One class is linearly separable from the other 2; the latter are NOT linearly separable from each other.\n",
    "\n",
    "Attribute Information:\n",
    "1. Sepal length in cm\n",
    "2. sepal width in cm\n",
    "3. petal length in cm\n",
    "4. petal width in cm\n",
    "5. class\n",
    "\n",
    "### The dataset is widely used as a benchmark in machine learning for supervised classification tasks aiming to accurately classify Iris flowers based on their measurements."
   ]
  },
  {
   "cell_type": "code",
   "execution_count": 1,
   "id": "cc4ea8aa",
   "metadata": {
    "execution": {
     "iopub.execute_input": "2023-10-12T19:09:00.048807Z",
     "iopub.status.busy": "2023-10-12T19:09:00.048388Z",
     "iopub.status.idle": "2023-10-12T19:09:02.609612Z",
     "shell.execute_reply": "2023-10-12T19:09:02.608412Z"
    },
    "papermill": {
     "duration": 2.572699,
     "end_time": "2023-10-12T19:09:02.612066",
     "exception": false,
     "start_time": "2023-10-12T19:09:00.039367",
     "status": "completed"
    },
    "tags": []
   },
   "outputs": [],
   "source": [
    "import pandas as pd\n",
    "import numpy as np\n",
    "import os\n",
    "import matplotlib.pyplot as plt\n",
    "import seaborn as sns\n",
    "import warnings\n",
    "warnings.filterwarnings('ignore')"
   ]
  },
  {
   "cell_type": "code",
   "execution_count": 2,
   "id": "ec167423",
   "metadata": {
    "execution": {
     "iopub.execute_input": "2023-10-12T19:09:02.629499Z",
     "iopub.status.busy": "2023-10-12T19:09:02.628998Z",
     "iopub.status.idle": "2023-10-12T19:09:02.683144Z",
     "shell.execute_reply": "2023-10-12T19:09:02.682370Z"
    },
    "papermill": {
     "duration": 0.064966,
     "end_time": "2023-10-12T19:09:02.685024",
     "exception": false,
     "start_time": "2023-10-12T19:09:02.620058",
     "status": "completed"
    },
    "tags": []
   },
   "outputs": [
    {
     "data": {
      "text/html": [
       "<div>\n",
       "<style scoped>\n",
       "    .dataframe tbody tr th:only-of-type {\n",
       "        vertical-align: middle;\n",
       "    }\n",
       "\n",
       "    .dataframe tbody tr th {\n",
       "        vertical-align: top;\n",
       "    }\n",
       "\n",
       "    .dataframe thead th {\n",
       "        text-align: right;\n",
       "    }\n",
       "</style>\n",
       "<table border=\"1\" class=\"dataframe\">\n",
       "  <thead>\n",
       "    <tr style=\"text-align: right;\">\n",
       "      <th></th>\n",
       "      <th>Id</th>\n",
       "      <th>SepalLengthCm</th>\n",
       "      <th>SepalWidthCm</th>\n",
       "      <th>PetalLengthCm</th>\n",
       "      <th>PetalWidthCm</th>\n",
       "      <th>Species</th>\n",
       "    </tr>\n",
       "  </thead>\n",
       "  <tbody>\n",
       "    <tr>\n",
       "      <th>0</th>\n",
       "      <td>1</td>\n",
       "      <td>5.1</td>\n",
       "      <td>3.5</td>\n",
       "      <td>1.4</td>\n",
       "      <td>0.2</td>\n",
       "      <td>Iris-setosa</td>\n",
       "    </tr>\n",
       "    <tr>\n",
       "      <th>1</th>\n",
       "      <td>2</td>\n",
       "      <td>4.9</td>\n",
       "      <td>3.0</td>\n",
       "      <td>1.4</td>\n",
       "      <td>0.2</td>\n",
       "      <td>Iris-setosa</td>\n",
       "    </tr>\n",
       "    <tr>\n",
       "      <th>2</th>\n",
       "      <td>3</td>\n",
       "      <td>4.7</td>\n",
       "      <td>3.2</td>\n",
       "      <td>1.3</td>\n",
       "      <td>0.2</td>\n",
       "      <td>Iris-setosa</td>\n",
       "    </tr>\n",
       "    <tr>\n",
       "      <th>3</th>\n",
       "      <td>4</td>\n",
       "      <td>4.6</td>\n",
       "      <td>3.1</td>\n",
       "      <td>1.5</td>\n",
       "      <td>0.2</td>\n",
       "      <td>Iris-setosa</td>\n",
       "    </tr>\n",
       "    <tr>\n",
       "      <th>4</th>\n",
       "      <td>5</td>\n",
       "      <td>5.0</td>\n",
       "      <td>3.6</td>\n",
       "      <td>1.4</td>\n",
       "      <td>0.2</td>\n",
       "      <td>Iris-setosa</td>\n",
       "    </tr>\n",
       "  </tbody>\n",
       "</table>\n",
       "</div>"
      ],
      "text/plain": [
       "   Id  SepalLengthCm  SepalWidthCm  PetalLengthCm  PetalWidthCm      Species\n",
       "0   1            5.1           3.5            1.4           0.2  Iris-setosa\n",
       "1   2            4.9           3.0            1.4           0.2  Iris-setosa\n",
       "2   3            4.7           3.2            1.3           0.2  Iris-setosa\n",
       "3   4            4.6           3.1            1.5           0.2  Iris-setosa\n",
       "4   5            5.0           3.6            1.4           0.2  Iris-setosa"
      ]
     },
     "execution_count": 2,
     "metadata": {},
     "output_type": "execute_result"
    }
   ],
   "source": [
    "df = pd.read_csv('/kaggle/input/iriscsv/Iris.csv')\n",
    "df.head()"
   ]
  },
  {
   "cell_type": "code",
   "execution_count": 3,
   "id": "7a488bb5",
   "metadata": {
    "execution": {
     "iopub.execute_input": "2023-10-12T19:09:02.702569Z",
     "iopub.status.busy": "2023-10-12T19:09:02.701589Z",
     "iopub.status.idle": "2023-10-12T19:09:02.724118Z",
     "shell.execute_reply": "2023-10-12T19:09:02.722794Z"
    },
    "papermill": {
     "duration": 0.034181,
     "end_time": "2023-10-12T19:09:02.726849",
     "exception": false,
     "start_time": "2023-10-12T19:09:02.692668",
     "status": "completed"
    },
    "tags": []
   },
   "outputs": [
    {
     "data": {
      "text/html": [
       "<div>\n",
       "<style scoped>\n",
       "    .dataframe tbody tr th:only-of-type {\n",
       "        vertical-align: middle;\n",
       "    }\n",
       "\n",
       "    .dataframe tbody tr th {\n",
       "        vertical-align: top;\n",
       "    }\n",
       "\n",
       "    .dataframe thead th {\n",
       "        text-align: right;\n",
       "    }\n",
       "</style>\n",
       "<table border=\"1\" class=\"dataframe\">\n",
       "  <thead>\n",
       "    <tr style=\"text-align: right;\">\n",
       "      <th></th>\n",
       "      <th>SepalLengthCm</th>\n",
       "      <th>SepalWidthCm</th>\n",
       "      <th>PetalLengthCm</th>\n",
       "      <th>PetalWidthCm</th>\n",
       "      <th>Species</th>\n",
       "    </tr>\n",
       "  </thead>\n",
       "  <tbody>\n",
       "    <tr>\n",
       "      <th>0</th>\n",
       "      <td>5.1</td>\n",
       "      <td>3.5</td>\n",
       "      <td>1.4</td>\n",
       "      <td>0.2</td>\n",
       "      <td>Iris-setosa</td>\n",
       "    </tr>\n",
       "    <tr>\n",
       "      <th>1</th>\n",
       "      <td>4.9</td>\n",
       "      <td>3.0</td>\n",
       "      <td>1.4</td>\n",
       "      <td>0.2</td>\n",
       "      <td>Iris-setosa</td>\n",
       "    </tr>\n",
       "    <tr>\n",
       "      <th>2</th>\n",
       "      <td>4.7</td>\n",
       "      <td>3.2</td>\n",
       "      <td>1.3</td>\n",
       "      <td>0.2</td>\n",
       "      <td>Iris-setosa</td>\n",
       "    </tr>\n",
       "    <tr>\n",
       "      <th>3</th>\n",
       "      <td>4.6</td>\n",
       "      <td>3.1</td>\n",
       "      <td>1.5</td>\n",
       "      <td>0.2</td>\n",
       "      <td>Iris-setosa</td>\n",
       "    </tr>\n",
       "    <tr>\n",
       "      <th>4</th>\n",
       "      <td>5.0</td>\n",
       "      <td>3.6</td>\n",
       "      <td>1.4</td>\n",
       "      <td>0.2</td>\n",
       "      <td>Iris-setosa</td>\n",
       "    </tr>\n",
       "  </tbody>\n",
       "</table>\n",
       "</div>"
      ],
      "text/plain": [
       "   SepalLengthCm  SepalWidthCm  PetalLengthCm  PetalWidthCm      Species\n",
       "0            5.1           3.5            1.4           0.2  Iris-setosa\n",
       "1            4.9           3.0            1.4           0.2  Iris-setosa\n",
       "2            4.7           3.2            1.3           0.2  Iris-setosa\n",
       "3            4.6           3.1            1.5           0.2  Iris-setosa\n",
       "4            5.0           3.6            1.4           0.2  Iris-setosa"
      ]
     },
     "execution_count": 3,
     "metadata": {},
     "output_type": "execute_result"
    }
   ],
   "source": [
    "# Drop the 'Id' column as it is not required for analysis\n",
    "df = df.drop(columns=[\"Id\"])\n",
    "df.head()"
   ]
  },
  {
   "cell_type": "code",
   "execution_count": 4,
   "id": "04a26506",
   "metadata": {
    "execution": {
     "iopub.execute_input": "2023-10-12T19:09:02.745014Z",
     "iopub.status.busy": "2023-10-12T19:09:02.743805Z",
     "iopub.status.idle": "2023-10-12T19:09:02.759158Z",
     "shell.execute_reply": "2023-10-12T19:09:02.757849Z"
    },
    "papermill": {
     "duration": 0.026967,
     "end_time": "2023-10-12T19:09:02.761683",
     "exception": false,
     "start_time": "2023-10-12T19:09:02.734716",
     "status": "completed"
    },
    "tags": []
   },
   "outputs": [
    {
     "data": {
      "text/html": [
       "<div>\n",
       "<style scoped>\n",
       "    .dataframe tbody tr th:only-of-type {\n",
       "        vertical-align: middle;\n",
       "    }\n",
       "\n",
       "    .dataframe tbody tr th {\n",
       "        vertical-align: top;\n",
       "    }\n",
       "\n",
       "    .dataframe thead th {\n",
       "        text-align: right;\n",
       "    }\n",
       "</style>\n",
       "<table border=\"1\" class=\"dataframe\">\n",
       "  <thead>\n",
       "    <tr style=\"text-align: right;\">\n",
       "      <th></th>\n",
       "      <th>SepalLengthCm</th>\n",
       "      <th>SepalWidthCm</th>\n",
       "      <th>PetalLengthCm</th>\n",
       "      <th>PetalWidthCm</th>\n",
       "      <th>Species</th>\n",
       "    </tr>\n",
       "  </thead>\n",
       "  <tbody>\n",
       "    <tr>\n",
       "      <th>0</th>\n",
       "      <td>5.1</td>\n",
       "      <td>3.5</td>\n",
       "      <td>1.4</td>\n",
       "      <td>0.2</td>\n",
       "      <td>Iris-setosa</td>\n",
       "    </tr>\n",
       "    <tr>\n",
       "      <th>1</th>\n",
       "      <td>4.9</td>\n",
       "      <td>3.0</td>\n",
       "      <td>1.4</td>\n",
       "      <td>0.2</td>\n",
       "      <td>Iris-setosa</td>\n",
       "    </tr>\n",
       "    <tr>\n",
       "      <th>2</th>\n",
       "      <td>4.7</td>\n",
       "      <td>3.2</td>\n",
       "      <td>1.3</td>\n",
       "      <td>0.2</td>\n",
       "      <td>Iris-setosa</td>\n",
       "    </tr>\n",
       "    <tr>\n",
       "      <th>3</th>\n",
       "      <td>4.6</td>\n",
       "      <td>3.1</td>\n",
       "      <td>1.5</td>\n",
       "      <td>0.2</td>\n",
       "      <td>Iris-setosa</td>\n",
       "    </tr>\n",
       "    <tr>\n",
       "      <th>4</th>\n",
       "      <td>5.0</td>\n",
       "      <td>3.6</td>\n",
       "      <td>1.4</td>\n",
       "      <td>0.2</td>\n",
       "      <td>Iris-setosa</td>\n",
       "    </tr>\n",
       "    <tr>\n",
       "      <th>5</th>\n",
       "      <td>5.4</td>\n",
       "      <td>3.9</td>\n",
       "      <td>1.7</td>\n",
       "      <td>0.4</td>\n",
       "      <td>Iris-setosa</td>\n",
       "    </tr>\n",
       "    <tr>\n",
       "      <th>6</th>\n",
       "      <td>4.6</td>\n",
       "      <td>3.4</td>\n",
       "      <td>1.4</td>\n",
       "      <td>0.3</td>\n",
       "      <td>Iris-setosa</td>\n",
       "    </tr>\n",
       "    <tr>\n",
       "      <th>7</th>\n",
       "      <td>5.0</td>\n",
       "      <td>3.4</td>\n",
       "      <td>1.5</td>\n",
       "      <td>0.2</td>\n",
       "      <td>Iris-setosa</td>\n",
       "    </tr>\n",
       "    <tr>\n",
       "      <th>8</th>\n",
       "      <td>4.4</td>\n",
       "      <td>2.9</td>\n",
       "      <td>1.4</td>\n",
       "      <td>0.2</td>\n",
       "      <td>Iris-setosa</td>\n",
       "    </tr>\n",
       "    <tr>\n",
       "      <th>9</th>\n",
       "      <td>4.9</td>\n",
       "      <td>3.1</td>\n",
       "      <td>1.5</td>\n",
       "      <td>0.1</td>\n",
       "      <td>Iris-setosa</td>\n",
       "    </tr>\n",
       "  </tbody>\n",
       "</table>\n",
       "</div>"
      ],
      "text/plain": [
       "   SepalLengthCm  SepalWidthCm  PetalLengthCm  PetalWidthCm      Species\n",
       "0            5.1           3.5            1.4           0.2  Iris-setosa\n",
       "1            4.9           3.0            1.4           0.2  Iris-setosa\n",
       "2            4.7           3.2            1.3           0.2  Iris-setosa\n",
       "3            4.6           3.1            1.5           0.2  Iris-setosa\n",
       "4            5.0           3.6            1.4           0.2  Iris-setosa\n",
       "5            5.4           3.9            1.7           0.4  Iris-setosa\n",
       "6            4.6           3.4            1.4           0.3  Iris-setosa\n",
       "7            5.0           3.4            1.5           0.2  Iris-setosa\n",
       "8            4.4           2.9            1.4           0.2  Iris-setosa\n",
       "9            4.9           3.1            1.5           0.1  Iris-setosa"
      ]
     },
     "execution_count": 4,
     "metadata": {},
     "output_type": "execute_result"
    }
   ],
   "source": [
    "#Display the first 10 rows of the dataframe\n",
    "df.head(10)"
   ]
  },
  {
   "cell_type": "code",
   "execution_count": 5,
   "id": "dd5b8f89",
   "metadata": {
    "execution": {
     "iopub.execute_input": "2023-10-12T19:09:02.780563Z",
     "iopub.status.busy": "2023-10-12T19:09:02.779534Z",
     "iopub.status.idle": "2023-10-12T19:09:02.804214Z",
     "shell.execute_reply": "2023-10-12T19:09:02.803162Z"
    },
    "papermill": {
     "duration": 0.037208,
     "end_time": "2023-10-12T19:09:02.806723",
     "exception": false,
     "start_time": "2023-10-12T19:09:02.769515",
     "status": "completed"
    },
    "tags": []
   },
   "outputs": [
    {
     "data": {
      "text/html": [
       "<div>\n",
       "<style scoped>\n",
       "    .dataframe tbody tr th:only-of-type {\n",
       "        vertical-align: middle;\n",
       "    }\n",
       "\n",
       "    .dataframe tbody tr th {\n",
       "        vertical-align: top;\n",
       "    }\n",
       "\n",
       "    .dataframe thead th {\n",
       "        text-align: right;\n",
       "    }\n",
       "</style>\n",
       "<table border=\"1\" class=\"dataframe\">\n",
       "  <thead>\n",
       "    <tr style=\"text-align: right;\">\n",
       "      <th></th>\n",
       "      <th>SepalLengthCm</th>\n",
       "      <th>SepalWidthCm</th>\n",
       "      <th>PetalLengthCm</th>\n",
       "      <th>PetalWidthCm</th>\n",
       "    </tr>\n",
       "  </thead>\n",
       "  <tbody>\n",
       "    <tr>\n",
       "      <th>count</th>\n",
       "      <td>150.000000</td>\n",
       "      <td>150.000000</td>\n",
       "      <td>150.000000</td>\n",
       "      <td>150.000000</td>\n",
       "    </tr>\n",
       "    <tr>\n",
       "      <th>mean</th>\n",
       "      <td>5.843333</td>\n",
       "      <td>3.054000</td>\n",
       "      <td>3.758667</td>\n",
       "      <td>1.198667</td>\n",
       "    </tr>\n",
       "    <tr>\n",
       "      <th>std</th>\n",
       "      <td>0.828066</td>\n",
       "      <td>0.433594</td>\n",
       "      <td>1.764420</td>\n",
       "      <td>0.763161</td>\n",
       "    </tr>\n",
       "    <tr>\n",
       "      <th>min</th>\n",
       "      <td>4.300000</td>\n",
       "      <td>2.000000</td>\n",
       "      <td>1.000000</td>\n",
       "      <td>0.100000</td>\n",
       "    </tr>\n",
       "    <tr>\n",
       "      <th>25%</th>\n",
       "      <td>5.100000</td>\n",
       "      <td>2.800000</td>\n",
       "      <td>1.600000</td>\n",
       "      <td>0.300000</td>\n",
       "    </tr>\n",
       "    <tr>\n",
       "      <th>50%</th>\n",
       "      <td>5.800000</td>\n",
       "      <td>3.000000</td>\n",
       "      <td>4.350000</td>\n",
       "      <td>1.300000</td>\n",
       "    </tr>\n",
       "    <tr>\n",
       "      <th>75%</th>\n",
       "      <td>6.400000</td>\n",
       "      <td>3.300000</td>\n",
       "      <td>5.100000</td>\n",
       "      <td>1.800000</td>\n",
       "    </tr>\n",
       "    <tr>\n",
       "      <th>max</th>\n",
       "      <td>7.900000</td>\n",
       "      <td>4.400000</td>\n",
       "      <td>6.900000</td>\n",
       "      <td>2.500000</td>\n",
       "    </tr>\n",
       "  </tbody>\n",
       "</table>\n",
       "</div>"
      ],
      "text/plain": [
       "       SepalLengthCm  SepalWidthCm  PetalLengthCm  PetalWidthCm\n",
       "count     150.000000    150.000000     150.000000    150.000000\n",
       "mean        5.843333      3.054000       3.758667      1.198667\n",
       "std         0.828066      0.433594       1.764420      0.763161\n",
       "min         4.300000      2.000000       1.000000      0.100000\n",
       "25%         5.100000      2.800000       1.600000      0.300000\n",
       "50%         5.800000      3.000000       4.350000      1.300000\n",
       "75%         6.400000      3.300000       5.100000      1.800000\n",
       "max         7.900000      4.400000       6.900000      2.500000"
      ]
     },
     "execution_count": 5,
     "metadata": {},
     "output_type": "execute_result"
    }
   ],
   "source": [
    "# Display basic statistics about the data\n",
    "df.describe()"
   ]
  },
  {
   "cell_type": "code",
   "execution_count": 6,
   "id": "0aeabbee",
   "metadata": {
    "execution": {
     "iopub.execute_input": "2023-10-12T19:09:02.825132Z",
     "iopub.status.busy": "2023-10-12T19:09:02.824753Z",
     "iopub.status.idle": "2023-10-12T19:09:02.849503Z",
     "shell.execute_reply": "2023-10-12T19:09:02.847977Z"
    },
    "papermill": {
     "duration": 0.036955,
     "end_time": "2023-10-12T19:09:02.851765",
     "exception": false,
     "start_time": "2023-10-12T19:09:02.814810",
     "status": "completed"
    },
    "tags": []
   },
   "outputs": [
    {
     "name": "stdout",
     "output_type": "stream",
     "text": [
      "<class 'pandas.core.frame.DataFrame'>\n",
      "RangeIndex: 150 entries, 0 to 149\n",
      "Data columns (total 5 columns):\n",
      " #   Column         Non-Null Count  Dtype  \n",
      "---  ------         --------------  -----  \n",
      " 0   SepalLengthCm  150 non-null    float64\n",
      " 1   SepalWidthCm   150 non-null    float64\n",
      " 2   PetalLengthCm  150 non-null    float64\n",
      " 3   PetalWidthCm   150 non-null    float64\n",
      " 4   Species        150 non-null    object \n",
      "dtypes: float64(4), object(1)\n",
      "memory usage: 6.0+ KB\n"
     ]
    }
   ],
   "source": [
    "# Display information about the datatype of each column and null values\n",
    "df.info()"
   ]
  },
  {
   "cell_type": "code",
   "execution_count": 7,
   "id": "497abf45",
   "metadata": {
    "execution": {
     "iopub.execute_input": "2023-10-12T19:09:02.869297Z",
     "iopub.status.busy": "2023-10-12T19:09:02.868928Z",
     "iopub.status.idle": "2023-10-12T19:09:02.876849Z",
     "shell.execute_reply": "2023-10-12T19:09:02.875774Z"
    },
    "papermill": {
     "duration": 0.019064,
     "end_time": "2023-10-12T19:09:02.878808",
     "exception": false,
     "start_time": "2023-10-12T19:09:02.859744",
     "status": "completed"
    },
    "tags": []
   },
   "outputs": [
    {
     "data": {
      "text/plain": [
       "Species\n",
       "Iris-setosa        50\n",
       "Iris-versicolor    50\n",
       "Iris-virginica     50\n",
       "Name: count, dtype: int64"
      ]
     },
     "execution_count": 7,
     "metadata": {},
     "output_type": "execute_result"
    }
   ],
   "source": [
    "# Display the number of samples for each class\n",
    "df['Species'].value_counts()"
   ]
  },
  {
   "cell_type": "markdown",
   "id": "3c6783ad",
   "metadata": {
    "papermill": {
     "duration": 0.008048,
     "end_time": "2023-10-12T19:09:02.895338",
     "exception": false,
     "start_time": "2023-10-12T19:09:02.887290",
     "status": "completed"
    },
    "tags": []
   },
   "source": [
    "## Preprocessing the Dataset"
   ]
  },
  {
   "cell_type": "code",
   "execution_count": 8,
   "id": "d3461628",
   "metadata": {
    "execution": {
     "iopub.execute_input": "2023-10-12T19:09:02.913704Z",
     "iopub.status.busy": "2023-10-12T19:09:02.913256Z",
     "iopub.status.idle": "2023-10-12T19:09:03.121719Z",
     "shell.execute_reply": "2023-10-12T19:09:03.120166Z"
    },
    "papermill": {
     "duration": 0.221152,
     "end_time": "2023-10-12T19:09:03.124854",
     "exception": false,
     "start_time": "2023-10-12T19:09:02.903702",
     "status": "completed"
    },
    "tags": []
   },
   "outputs": [
    {
     "data": {
      "text/plain": [
       "0      0\n",
       "1      0\n",
       "2      0\n",
       "3      0\n",
       "4      0\n",
       "      ..\n",
       "145    2\n",
       "146    2\n",
       "147    2\n",
       "148    2\n",
       "149    2\n",
       "Name: Species, Length: 150, dtype: int64"
      ]
     },
     "execution_count": 8,
     "metadata": {},
     "output_type": "execute_result"
    }
   ],
   "source": [
    "#Label encoding to convert class labels into numeric form\n",
    "from sklearn.preprocessing import LabelEncoder\n",
    "le = LabelEncoder()\n",
    "df['Species'] = le.fit_transform(df['Species'])\n",
    "df['Species']"
   ]
  },
  {
   "cell_type": "code",
   "execution_count": 9,
   "id": "0080d55b",
   "metadata": {
    "execution": {
     "iopub.execute_input": "2023-10-12T19:09:03.149159Z",
     "iopub.status.busy": "2023-10-12T19:09:03.148396Z",
     "iopub.status.idle": "2023-10-12T19:09:03.163094Z",
     "shell.execute_reply": "2023-10-12T19:09:03.162148Z"
    },
    "papermill": {
     "duration": 0.029693,
     "end_time": "2023-10-12T19:09:03.165156",
     "exception": false,
     "start_time": "2023-10-12T19:09:03.135463",
     "status": "completed"
    },
    "tags": []
   },
   "outputs": [
    {
     "data": {
      "text/html": [
       "<div>\n",
       "<style scoped>\n",
       "    .dataframe tbody tr th:only-of-type {\n",
       "        vertical-align: middle;\n",
       "    }\n",
       "\n",
       "    .dataframe tbody tr th {\n",
       "        vertical-align: top;\n",
       "    }\n",
       "\n",
       "    .dataframe thead th {\n",
       "        text-align: right;\n",
       "    }\n",
       "</style>\n",
       "<table border=\"1\" class=\"dataframe\">\n",
       "  <thead>\n",
       "    <tr style=\"text-align: right;\">\n",
       "      <th></th>\n",
       "      <th>SepalLengthCm</th>\n",
       "      <th>SepalWidthCm</th>\n",
       "      <th>PetalLengthCm</th>\n",
       "      <th>PetalWidthCm</th>\n",
       "      <th>Species</th>\n",
       "    </tr>\n",
       "  </thead>\n",
       "  <tbody>\n",
       "    <tr>\n",
       "      <th>0</th>\n",
       "      <td>5.1</td>\n",
       "      <td>3.5</td>\n",
       "      <td>1.4</td>\n",
       "      <td>0.2</td>\n",
       "      <td>0</td>\n",
       "    </tr>\n",
       "    <tr>\n",
       "      <th>1</th>\n",
       "      <td>4.9</td>\n",
       "      <td>3.0</td>\n",
       "      <td>1.4</td>\n",
       "      <td>0.2</td>\n",
       "      <td>0</td>\n",
       "    </tr>\n",
       "    <tr>\n",
       "      <th>2</th>\n",
       "      <td>4.7</td>\n",
       "      <td>3.2</td>\n",
       "      <td>1.3</td>\n",
       "      <td>0.2</td>\n",
       "      <td>0</td>\n",
       "    </tr>\n",
       "    <tr>\n",
       "      <th>3</th>\n",
       "      <td>4.6</td>\n",
       "      <td>3.1</td>\n",
       "      <td>1.5</td>\n",
       "      <td>0.2</td>\n",
       "      <td>0</td>\n",
       "    </tr>\n",
       "    <tr>\n",
       "      <th>4</th>\n",
       "      <td>5.0</td>\n",
       "      <td>3.6</td>\n",
       "      <td>1.4</td>\n",
       "      <td>0.2</td>\n",
       "      <td>0</td>\n",
       "    </tr>\n",
       "    <tr>\n",
       "      <th>...</th>\n",
       "      <td>...</td>\n",
       "      <td>...</td>\n",
       "      <td>...</td>\n",
       "      <td>...</td>\n",
       "      <td>...</td>\n",
       "    </tr>\n",
       "    <tr>\n",
       "      <th>145</th>\n",
       "      <td>6.7</td>\n",
       "      <td>3.0</td>\n",
       "      <td>5.2</td>\n",
       "      <td>2.3</td>\n",
       "      <td>2</td>\n",
       "    </tr>\n",
       "    <tr>\n",
       "      <th>146</th>\n",
       "      <td>6.3</td>\n",
       "      <td>2.5</td>\n",
       "      <td>5.0</td>\n",
       "      <td>1.9</td>\n",
       "      <td>2</td>\n",
       "    </tr>\n",
       "    <tr>\n",
       "      <th>147</th>\n",
       "      <td>6.5</td>\n",
       "      <td>3.0</td>\n",
       "      <td>5.2</td>\n",
       "      <td>2.0</td>\n",
       "      <td>2</td>\n",
       "    </tr>\n",
       "    <tr>\n",
       "      <th>148</th>\n",
       "      <td>6.2</td>\n",
       "      <td>3.4</td>\n",
       "      <td>5.4</td>\n",
       "      <td>2.3</td>\n",
       "      <td>2</td>\n",
       "    </tr>\n",
       "    <tr>\n",
       "      <th>149</th>\n",
       "      <td>5.9</td>\n",
       "      <td>3.0</td>\n",
       "      <td>5.1</td>\n",
       "      <td>1.8</td>\n",
       "      <td>2</td>\n",
       "    </tr>\n",
       "  </tbody>\n",
       "</table>\n",
       "<p>150 rows × 5 columns</p>\n",
       "</div>"
      ],
      "text/plain": [
       "     SepalLengthCm  SepalWidthCm  PetalLengthCm  PetalWidthCm  Species\n",
       "0              5.1           3.5            1.4           0.2        0\n",
       "1              4.9           3.0            1.4           0.2        0\n",
       "2              4.7           3.2            1.3           0.2        0\n",
       "3              4.6           3.1            1.5           0.2        0\n",
       "4              5.0           3.6            1.4           0.2        0\n",
       "..             ...           ...            ...           ...      ...\n",
       "145            6.7           3.0            5.2           2.3        2\n",
       "146            6.3           2.5            5.0           1.9        2\n",
       "147            6.5           3.0            5.2           2.0        2\n",
       "148            6.2           3.4            5.4           2.3        2\n",
       "149            5.9           3.0            5.1           1.8        2\n",
       "\n",
       "[150 rows x 5 columns]"
      ]
     },
     "execution_count": 9,
     "metadata": {},
     "output_type": "execute_result"
    }
   ],
   "source": [
    "df"
   ]
  },
  {
   "cell_type": "code",
   "execution_count": 10,
   "id": "8cf24464",
   "metadata": {
    "execution": {
     "iopub.execute_input": "2023-10-12T19:09:03.184588Z",
     "iopub.status.busy": "2023-10-12T19:09:03.183535Z",
     "iopub.status.idle": "2023-10-12T19:09:03.192293Z",
     "shell.execute_reply": "2023-10-12T19:09:03.191331Z"
    },
    "papermill": {
     "duration": 0.020215,
     "end_time": "2023-10-12T19:09:03.194197",
     "exception": false,
     "start_time": "2023-10-12T19:09:03.173982",
     "status": "completed"
    },
    "tags": []
   },
   "outputs": [
    {
     "data": {
      "text/plain": [
       "SepalLengthCm    0\n",
       "SepalWidthCm     0\n",
       "PetalLengthCm    0\n",
       "PetalWidthCm     0\n",
       "Species          0\n",
       "dtype: int64"
      ]
     },
     "execution_count": 10,
     "metadata": {},
     "output_type": "execute_result"
    }
   ],
   "source": [
    "# check for null values\n",
    "df.isnull().sum()"
   ]
  },
  {
   "cell_type": "markdown",
   "id": "0525fc52",
   "metadata": {
    "papermill": {
     "duration": 0.008677,
     "end_time": "2023-10-12T19:09:03.212082",
     "exception": false,
     "start_time": "2023-10-12T19:09:03.203405",
     "status": "completed"
    },
    "tags": []
   },
   "source": [
    "### Exploratory Data Analysis (EDA)"
   ]
  },
  {
   "cell_type": "code",
   "execution_count": 11,
   "id": "c6b8f64e",
   "metadata": {
    "execution": {
     "iopub.execute_input": "2023-10-12T19:09:03.231708Z",
     "iopub.status.busy": "2023-10-12T19:09:03.231026Z",
     "iopub.status.idle": "2023-10-12T19:09:03.599470Z",
     "shell.execute_reply": "2023-10-12T19:09:03.598212Z"
    },
    "papermill": {
     "duration": 0.380989,
     "end_time": "2023-10-12T19:09:03.601712",
     "exception": false,
     "start_time": "2023-10-12T19:09:03.220723",
     "status": "completed"
    },
    "tags": []
   },
   "outputs": [
    {
     "data": {
      "text/plain": [
       "<Axes: >"
      ]
     },
     "execution_count": 11,
     "metadata": {},
     "output_type": "execute_result"
    },
    {
     "data": {
      "image/png": "[encoded data removed]",
      "text/plain": [
       "<Figure size 640x480 with 1 Axes>"
      ]
     },
     "metadata": {},
     "output_type": "display_data"
    }
   ],
   "source": [
    "# Plot histograms of each feature\n",
    "df['SepalLengthCm'].hist()"
   ]
  },
  {
   "cell_type": "code",
   "execution_count": 12,
   "id": "e2024f43",
   "metadata": {
    "execution": {
     "iopub.execute_input": "2023-10-12T19:09:03.621438Z",
     "iopub.status.busy": "2023-10-12T19:09:03.621098Z",
     "iopub.status.idle": "2023-10-12T19:09:03.915343Z",
     "shell.execute_reply": "2023-10-12T19:09:03.914044Z"
    },
    "papermill": {
     "duration": 0.308397,
     "end_time": "2023-10-12T19:09:03.919173",
     "exception": false,
     "start_time": "2023-10-12T19:09:03.610776",
     "status": "completed"
    },
    "tags": []
   },
   "outputs": [
    {
     "data": {
      "text/plain": [
       "<Axes: >"
      ]
     },
     "execution_count": 12,
     "metadata": {},
     "output_type": "execute_result"
    },
    {
     "data": {
      "image/png": "[encoded data removed]",
      "text/plain": [
       "<Figure size 640x480 with 1 Axes>"
      ]
     },
     "metadata": {},
     "output_type": "display_data"
    }
   ],
   "source": [
    "df['SepalWidthCm'].hist()"
   ]
  },
  {
   "cell_type": "markdown",
   "id": "a03e5f41",
   "metadata": {
    "papermill": {
     "duration": 0.008864,
     "end_time": "2023-10-12T19:09:03.938558",
     "exception": false,
     "start_time": "2023-10-12T19:09:03.929694",
     "status": "completed"
    },
    "tags": []
   },
   "source": []
  },
  {
   "cell_type": "code",
   "execution_count": 13,
   "id": "0b4ac184",
   "metadata": {
    "execution": {
     "iopub.execute_input": "2023-10-12T19:09:03.968159Z",
     "iopub.status.busy": "2023-10-12T19:09:03.966973Z",
     "iopub.status.idle": "2023-10-12T19:09:04.267914Z",
     "shell.execute_reply": "2023-10-12T19:09:04.266818Z"
    },
    "papermill": {
     "duration": 0.317828,
     "end_time": "2023-10-12T19:09:04.271192",
     "exception": false,
     "start_time": "2023-10-12T19:09:03.953364",
     "status": "completed"
    },
    "tags": []
   },
   "outputs": [
    {
     "data": {
      "text/plain": [
       "<Axes: >"
      ]
     },
     "execution_count": 13,
     "metadata": {},
     "output_type": "execute_result"
    },
    {
     "data": {
      "image/png": "[encoded data removed]",
      "text/plain": [
       "<Figure size 640x480 with 1 Axes>"
      ]
     },
     "metadata": {},
     "output_type": "display_data"
    }
   ],
   "source": [
    "df['PetalLengthCm'].hist()"
   ]
  },
  {
   "cell_type": "code",
   "execution_count": 14,
   "id": "df8331b4",
   "metadata": {
    "execution": {
     "iopub.execute_input": "2023-10-12T19:09:04.301589Z",
     "iopub.status.busy": "2023-10-12T19:09:04.300582Z",
     "iopub.status.idle": "2023-10-12T19:09:04.605485Z",
     "shell.execute_reply": "2023-10-12T19:09:04.604093Z"
    },
    "papermill": {
     "duration": 0.320476,
     "end_time": "2023-10-12T19:09:04.608687",
     "exception": false,
     "start_time": "2023-10-12T19:09:04.288211",
     "status": "completed"
    },
    "tags": []
   },
   "outputs": [
    {
     "data": {
      "text/plain": [
       "<Axes: >"
      ]
     },
     "execution_count": 14,
     "metadata": {},
     "output_type": "execute_result"
    },
    {
     "data": {
      "image/png": "[encoded data removed]",
      "text/plain": [
       "<Figure size 640x480 with 1 Axes>"
      ]
     },
     "metadata": {},
     "output_type": "display_data"
    }
   ],
   "source": [
    "df['PetalWidthCm'].hist()"
   ]
  },
  {
   "cell_type": "code",
   "execution_count": 15,
   "id": "406f96c6",
   "metadata": {
    "execution": {
     "iopub.execute_input": "2023-10-12T19:09:04.634452Z",
     "iopub.status.busy": "2023-10-12T19:09:04.633541Z",
     "iopub.status.idle": "2023-10-12T19:09:04.981254Z",
     "shell.execute_reply": "2023-10-12T19:09:04.980040Z"
    },
    "papermill": {
     "duration": 0.362457,
     "end_time": "2023-10-12T19:09:04.983637",
     "exception": false,
     "start_time": "2023-10-12T19:09:04.621180",
     "status": "completed"
    },
    "tags": []
   },
   "outputs": [
    {
     "data": {
      "text/plain": [
       "<Axes: >"
      ]
     },
     "execution_count": 15,
     "metadata": {},
     "output_type": "execute_result"
    },
    {
     "data": {
      "image/png": "[encoded data removed]",
      "text/plain": [
       "<Figure size 640x480 with 1 Axes>"
      ]
     },
     "metadata": {},
     "output_type": "display_data"
    }
   ],
   "source": [
    "#Plotting the histogram of all features toghether\n",
    "df['SepalLengthCm'].hist()\n",
    "df['SepalWidthCm'].hist()\n",
    "df['PetalLengthCm'].hist()\n",
    "df['PetalWidthCm'].hist()"
   ]
  },
  {
   "cell_type": "code",
   "execution_count": 16,
   "id": "6a7326ec",
   "metadata": {
    "execution": {
     "iopub.execute_input": "2023-10-12T19:09:05.006715Z",
     "iopub.status.busy": "2023-10-12T19:09:05.006346Z",
     "iopub.status.idle": "2023-10-12T19:09:05.012060Z",
     "shell.execute_reply": "2023-10-12T19:09:05.010538Z"
    },
    "papermill": {
     "duration": 0.019856,
     "end_time": "2023-10-12T19:09:05.014322",
     "exception": false,
     "start_time": "2023-10-12T19:09:04.994466",
     "status": "completed"
    },
    "tags": []
   },
   "outputs": [],
   "source": [
    "# Plot scatterplots to visualize relationships between features\n",
    "colors = ['red', 'orange', 'blue']\n",
    "species = [0, 1, 2]"
   ]
  },
  {
   "cell_type": "code",
   "execution_count": 17,
   "id": "8e2651a3",
   "metadata": {
    "execution": {
     "iopub.execute_input": "2023-10-12T19:09:05.102025Z",
     "iopub.status.busy": "2023-10-12T19:09:05.101471Z",
     "iopub.status.idle": "2023-10-12T19:09:05.500501Z",
     "shell.execute_reply": "2023-10-12T19:09:05.499449Z"
    },
    "papermill": {
     "duration": 0.416727,
     "end_time": "2023-10-12T19:09:05.503164",
     "exception": false,
     "start_time": "2023-10-12T19:09:05.086437",
     "status": "completed"
    },
    "tags": []
   },
   "outputs": [
    {
     "data": {
      "text/plain": [
       "<matplotlib.legend.Legend at 0x7b3d08cf2a70>"
      ]
     },
     "execution_count": 17,
     "metadata": {},
     "output_type": "execute_result"
    },
    {
     "data": {
      "image/png": "[encoded data removed]",
      "text/plain": [
       "<Figure size 640x480 with 1 Axes>"
      ]
     },
     "metadata": {},
     "output_type": "display_data"
    }
   ],
   "source": [
    "# Scatter plot for Sepal Length vs Sepal Width\n",
    "for i in range(3):\n",
    "    x = df[df['Species'] == species[i]]\n",
    "    plt.scatter(x['SepalLengthCm'], x['SepalWidthCm'], c=colors[i], label=species[i])\n",
    "plt.xlabel(\"Sepal Length\")\n",
    "plt.ylabel(\"Sepal Width\")\n",
    "plt.legend()"
   ]
  },
  {
   "cell_type": "code",
   "execution_count": 18,
   "id": "63c0d275",
   "metadata": {
    "execution": {
     "iopub.execute_input": "2023-10-12T19:09:05.527059Z",
     "iopub.status.busy": "2023-10-12T19:09:05.526544Z",
     "iopub.status.idle": "2023-10-12T19:09:05.903861Z",
     "shell.execute_reply": "2023-10-12T19:09:05.902725Z"
    },
    "papermill": {
     "duration": 0.391842,
     "end_time": "2023-10-12T19:09:05.906143",
     "exception": false,
     "start_time": "2023-10-12T19:09:05.514301",
     "status": "completed"
    },
    "tags": []
   },
   "outputs": [
    {
     "data": {
      "text/plain": [
       "<matplotlib.legend.Legend at 0x7b3d08b9dd50>"
      ]
     },
     "execution_count": 18,
     "metadata": {},
     "output_type": "execute_result"
    },
    {
     "data": {
      "image/png": "[encoded data removed]",
      "text/plain": [
       "<Figure size 640x480 with 1 Axes>"
      ]
     },
     "metadata": {},
     "output_type": "display_data"
    }
   ],
   "source": [
    "# Scatter plot for Petal Length vs Petal Width \n",
    "for i in range(3):\n",
    "    x = df[df['Species'] == species[i]]\n",
    "    plt.scatter(x['PetalLengthCm'], x['PetalWidthCm'], c = colors[i], label=species[i])\n",
    "plt.xlabel(\"Petal Length\")\n",
    "plt.ylabel(\"Petal Width\")\n",
    "plt.legend()"
   ]
  },
  {
   "cell_type": "code",
   "execution_count": 19,
   "id": "79bda1f6",
   "metadata": {
    "execution": {
     "iopub.execute_input": "2023-10-12T19:09:05.931391Z",
     "iopub.status.busy": "2023-10-12T19:09:05.931035Z",
     "iopub.status.idle": "2023-10-12T19:09:06.321921Z",
     "shell.execute_reply": "2023-10-12T19:09:06.320759Z"
    },
    "papermill": {
     "duration": 0.406119,
     "end_time": "2023-10-12T19:09:06.324121",
     "exception": false,
     "start_time": "2023-10-12T19:09:05.918002",
     "status": "completed"
    },
    "tags": []
   },
   "outputs": [
    {
     "data": {
      "text/plain": [
       "<matplotlib.legend.Legend at 0x7b3d08a37a30>"
      ]
     },
     "execution_count": 19,
     "metadata": {},
     "output_type": "execute_result"
    },
    {
     "data": {
      "image/png": "[encoded data removed]",
      "text/plain": [
       "<Figure size 640x480 with 1 Axes>"
      ]
     },
     "metadata": {},
     "output_type": "display_data"
    }
   ],
   "source": [
    "# Scatter plot for Petal Length vs Sepal Length\n",
    "for i in range(3):\n",
    "    x = df[df['Species'] == species[i]]\n",
    "    plt.scatter(x['SepalLengthCm'], x['PetalLengthCm'], c = colors[i], label=species[i])\n",
    "plt.xlabel(\"Sepal Length\")\n",
    "plt.ylabel(\"Petal Length\")\n",
    "plt.legend()"
   ]
  },
  {
   "cell_type": "code",
   "execution_count": 20,
   "id": "297c063a",
   "metadata": {
    "execution": {
     "iopub.execute_input": "2023-10-12T19:09:06.350596Z",
     "iopub.status.busy": "2023-10-12T19:09:06.350245Z",
     "iopub.status.idle": "2023-10-12T19:09:06.707746Z",
     "shell.execute_reply": "2023-10-12T19:09:06.706655Z"
    },
    "papermill": {
     "duration": 0.373171,
     "end_time": "2023-10-12T19:09:06.709796",
     "exception": false,
     "start_time": "2023-10-12T19:09:06.336625",
     "status": "completed"
    },
    "tags": []
   },
   "outputs": [
    {
     "data": {
      "text/plain": [
       "<matplotlib.legend.Legend at 0x7b3d08a37970>"
      ]
     },
     "execution_count": 20,
     "metadata": {},
     "output_type": "execute_result"
    },
    {
     "data": {
      "image/png": "[encoded data removed]",
      "text/plain": [
       "<Figure size 640x480 with 1 Axes>"
      ]
     },
     "metadata": {},
     "output_type": "display_data"
    }
   ],
   "source": [
    "# Scatter plot for Sepal Width vs Petal Width\n",
    "for i in range(3):\n",
    "    x = df[df['Species'] == species[i]]\n",
    "    plt.scatter(x['SepalWidthCm'], x['PetalWidthCm'], c = colors[i], label=species[i])\n",
    "plt.xlabel(\"Sepal Width\")\n",
    "plt.ylabel(\"Petal Width\")\n",
    "plt.legend()"
   ]
  },
  {
   "cell_type": "markdown",
   "id": "59adf782",
   "metadata": {
    "papermill": {
     "duration": 0.011712,
     "end_time": "2023-10-12T19:09:06.733821",
     "exception": false,
     "start_time": "2023-10-12T19:09:06.722109",
     "status": "completed"
    },
    "tags": []
   },
   "source": [
    "## Correlation Matrix"
   ]
  },
  {
   "cell_type": "code",
   "execution_count": 21,
   "id": "2966d77f",
   "metadata": {
    "execution": {
     "iopub.execute_input": "2023-10-12T19:09:06.760532Z",
     "iopub.status.busy": "2023-10-12T19:09:06.760192Z",
     "iopub.status.idle": "2023-10-12T19:09:06.773089Z",
     "shell.execute_reply": "2023-10-12T19:09:06.772082Z"
    },
    "papermill": {
     "duration": 0.029039,
     "end_time": "2023-10-12T19:09:06.775104",
     "exception": false,
     "start_time": "2023-10-12T19:09:06.746065",
     "status": "completed"
    },
    "tags": []
   },
   "outputs": [
    {
     "data": {
      "text/html": [
       "<div>\n",
       "<style scoped>\n",
       "    .dataframe tbody tr th:only-of-type {\n",
       "        vertical-align: middle;\n",
       "    }\n",
       "\n",
       "    .dataframe tbody tr th {\n",
       "        vertical-align: top;\n",
       "    }\n",
       "\n",
       "    .dataframe thead th {\n",
       "        text-align: right;\n",
       "    }\n",
       "</style>\n",
       "<table border=\"1\" class=\"dataframe\">\n",
       "  <thead>\n",
       "    <tr style=\"text-align: right;\">\n",
       "      <th></th>\n",
       "      <th>SepalLengthCm</th>\n",
       "      <th>SepalWidthCm</th>\n",
       "      <th>PetalLengthCm</th>\n",
       "      <th>PetalWidthCm</th>\n",
       "      <th>Species</th>\n",
       "    </tr>\n",
       "  </thead>\n",
       "  <tbody>\n",
       "    <tr>\n",
       "      <th>SepalLengthCm</th>\n",
       "      <td>1.000000</td>\n",
       "      <td>-0.109369</td>\n",
       "      <td>0.871754</td>\n",
       "      <td>0.817954</td>\n",
       "      <td>0.782561</td>\n",
       "    </tr>\n",
       "    <tr>\n",
       "      <th>SepalWidthCm</th>\n",
       "      <td>-0.109369</td>\n",
       "      <td>1.000000</td>\n",
       "      <td>-0.420516</td>\n",
       "      <td>-0.356544</td>\n",
       "      <td>-0.419446</td>\n",
       "    </tr>\n",
       "    <tr>\n",
       "      <th>PetalLengthCm</th>\n",
       "      <td>0.871754</td>\n",
       "      <td>-0.420516</td>\n",
       "      <td>1.000000</td>\n",
       "      <td>0.962757</td>\n",
       "      <td>0.949043</td>\n",
       "    </tr>\n",
       "    <tr>\n",
       "      <th>PetalWidthCm</th>\n",
       "      <td>0.817954</td>\n",
       "      <td>-0.356544</td>\n",
       "      <td>0.962757</td>\n",
       "      <td>1.000000</td>\n",
       "      <td>0.956464</td>\n",
       "    </tr>\n",
       "    <tr>\n",
       "      <th>Species</th>\n",
       "      <td>0.782561</td>\n",
       "      <td>-0.419446</td>\n",
       "      <td>0.949043</td>\n",
       "      <td>0.956464</td>\n",
       "      <td>1.000000</td>\n",
       "    </tr>\n",
       "  </tbody>\n",
       "</table>\n",
       "</div>"
      ],
      "text/plain": [
       "               SepalLengthCm  SepalWidthCm  PetalLengthCm  PetalWidthCm  \\\n",
       "SepalLengthCm       1.000000     -0.109369       0.871754      0.817954   \n",
       "SepalWidthCm       -0.109369      1.000000      -0.420516     -0.356544   \n",
       "PetalLengthCm       0.871754     -0.420516       1.000000      0.962757   \n",
       "PetalWidthCm        0.817954     -0.356544       0.962757      1.000000   \n",
       "Species             0.782561     -0.419446       0.949043      0.956464   \n",
       "\n",
       "                Species  \n",
       "SepalLengthCm  0.782561  \n",
       "SepalWidthCm  -0.419446  \n",
       "PetalLengthCm  0.949043  \n",
       "PetalWidthCm   0.956464  \n",
       "Species        1.000000  "
      ]
     },
     "execution_count": 21,
     "metadata": {},
     "output_type": "execute_result"
    }
   ],
   "source": [
    "# Compute the correlation matrix \n",
    "df.corr()"
   ]
  },
  {
   "cell_type": "code",
   "execution_count": 22,
   "id": "c915ae8d",
   "metadata": {
    "execution": {
     "iopub.execute_input": "2023-10-12T19:09:06.803279Z",
     "iopub.status.busy": "2023-10-12T19:09:06.802629Z",
     "iopub.status.idle": "2023-10-12T19:09:07.312001Z",
     "shell.execute_reply": "2023-10-12T19:09:07.310886Z"
    },
    "papermill": {
     "duration": 0.526513,
     "end_time": "2023-10-12T19:09:07.314370",
     "exception": false,
     "start_time": "2023-10-12T19:09:06.787857",
     "status": "completed"
    },
    "tags": []
   },
   "outputs": [
    {
     "data": {
      "text/plain": [
       "<Axes: >"
      ]
     },
     "execution_count": 22,
     "metadata": {},
     "output_type": "execute_result"
    },
    {
     "data": {
      "image/png": "[encoded data removed]",
      "text/plain": [
       "<Figure size 500x400 with 2 Axes>"
      ]
     },
     "metadata": {},
     "output_type": "display_data"
    }
   ],
   "source": [
    "# display the correlation matrix using a heatmap\n",
    "corr = df.corr()\n",
    "fig, ax = plt.subplots(figsize=(5, 4))\n",
    "sns.heatmap(corr, annot=True, ax=ax, cmap='coolwarm')"
   ]
  },
  {
   "cell_type": "markdown",
   "id": "870e1dbf",
   "metadata": {
    "papermill": {
     "duration": 0.013529,
     "end_time": "2023-10-12T19:09:07.341565",
     "exception": false,
     "start_time": "2023-10-12T19:09:07.328036",
     "status": "completed"
    },
    "tags": []
   },
   "source": [
    "## Model Training"
   ]
  },
  {
   "cell_type": "code",
   "execution_count": 23,
   "id": "c31c2cf6",
   "metadata": {
    "execution": {
     "iopub.execute_input": "2023-10-12T19:09:07.371675Z",
     "iopub.status.busy": "2023-10-12T19:09:07.371257Z",
     "iopub.status.idle": "2023-10-12T19:09:07.518470Z",
     "shell.execute_reply": "2023-10-12T19:09:07.517168Z"
    },
    "papermill": {
     "duration": 0.166279,
     "end_time": "2023-10-12T19:09:07.521703",
     "exception": false,
     "start_time": "2023-10-12T19:09:07.355424",
     "status": "completed"
    },
    "tags": []
   },
   "outputs": [],
   "source": [
    "# Split the dataset into training and testing sets\n",
    "from sklearn.model_selection import train_test_split\n",
    "X = df.drop(columns=['Species'])\n",
    "Y = df['Species']\n",
    "x_train, x_test, y_train, y_test = train_test_split(X, Y, test_size=0.40)"
   ]
  },
  {
   "cell_type": "code",
   "execution_count": 24,
   "id": "9a136892",
   "metadata": {
    "execution": {
     "iopub.execute_input": "2023-10-12T19:09:07.550987Z",
     "iopub.status.busy": "2023-10-12T19:09:07.550270Z",
     "iopub.status.idle": "2023-10-12T19:09:07.694910Z",
     "shell.execute_reply": "2023-10-12T19:09:07.693215Z"
    },
    "papermill": {
     "duration": 0.161899,
     "end_time": "2023-10-12T19:09:07.697372",
     "exception": false,
     "start_time": "2023-10-12T19:09:07.535473",
     "status": "completed"
    },
    "tags": []
   },
   "outputs": [
    {
     "name": "stdout",
     "output_type": "stream",
     "text": [
      "Accuracy (Logistic Regression):  96.66666666666667\n"
     ]
    }
   ],
   "source": [
    "# Logistic Regression Model\n",
    "from sklearn.linear_model import LogisticRegression\n",
    "model1 = LogisticRegression()\n",
    "model1.fit(x_train, y_train)\n",
    "print(\"Accuracy (Logistic Regression): \", model1.score(x_test, y_test) * 100)"
   ]
  },
  {
   "cell_type": "code",
   "execution_count": 25,
   "id": "2ceaaeac",
   "metadata": {
    "execution": {
     "iopub.execute_input": "2023-10-12T19:09:07.726102Z",
     "iopub.status.busy": "2023-10-12T19:09:07.725688Z",
     "iopub.status.idle": "2023-10-12T19:09:07.867145Z",
     "shell.execute_reply": "2023-10-12T19:09:07.865719Z"
    },
    "papermill": {
     "duration": 0.158404,
     "end_time": "2023-10-12T19:09:07.869455",
     "exception": false,
     "start_time": "2023-10-12T19:09:07.711051",
     "status": "completed"
    },
    "tags": []
   },
   "outputs": [
    {
     "name": "stdout",
     "output_type": "stream",
     "text": [
      "Accuracy (KNN):  96.66666666666667\n"
     ]
    }
   ],
   "source": [
    "# K-nearest Neighbours Model (KNN)\n",
    "from sklearn.neighbors import KNeighborsClassifier\n",
    "model2 = KNeighborsClassifier()\n",
    "model2.fit(x_train, y_train)\n",
    "print(\"Accuracy (KNN): \", model2.score(x_test, y_test) * 100)"
   ]
  },
  {
   "cell_type": "code",
   "execution_count": 26,
   "id": "b48d6d98",
   "metadata": {
    "execution": {
     "iopub.execute_input": "2023-10-12T19:09:07.899189Z",
     "iopub.status.busy": "2023-10-12T19:09:07.898765Z",
     "iopub.status.idle": "2023-10-12T19:09:07.961483Z",
     "shell.execute_reply": "2023-10-12T19:09:07.960167Z"
    },
    "papermill": {
     "duration": 0.079975,
     "end_time": "2023-10-12T19:09:07.963343",
     "exception": false,
     "start_time": "2023-10-12T19:09:07.883368",
     "status": "completed"
    },
    "tags": []
   },
   "outputs": [
    {
     "name": "stdout",
     "output_type": "stream",
     "text": [
      "Accuracy (Decision Tree):  96.66666666666667\n"
     ]
    }
   ],
   "source": [
    "# Decision Tree Model\n",
    "from sklearn.tree import DecisionTreeClassifier\n",
    "model3 = DecisionTreeClassifier()\n",
    "model3.fit(x_train, y_train)\n",
    "print(\"Accuracy (Decision Tree): \", model3.score(x_test, y_test) * 100)"
   ]
  },
  {
   "cell_type": "markdown",
   "id": "05d41b5c",
   "metadata": {
    "papermill": {
     "duration": 0.013858,
     "end_time": "2023-10-12T19:09:07.990357",
     "exception": false,
     "start_time": "2023-10-12T19:09:07.976499",
     "status": "completed"
    },
    "tags": []
   },
   "source": [
    "## Confusion Matrix"
   ]
  },
  {
   "cell_type": "code",
   "execution_count": 27,
   "id": "84824817",
   "metadata": {
    "execution": {
     "iopub.execute_input": "2023-10-12T19:09:08.022899Z",
     "iopub.status.busy": "2023-10-12T19:09:08.021585Z",
     "iopub.status.idle": "2023-10-12T19:09:08.027004Z",
     "shell.execute_reply": "2023-10-12T19:09:08.026161Z"
    },
    "papermill": {
     "duration": 0.023904,
     "end_time": "2023-10-12T19:09:08.029091",
     "exception": false,
     "start_time": "2023-10-12T19:09:08.005187",
     "status": "completed"
    },
    "tags": []
   },
   "outputs": [],
   "source": [
    "from sklearn.metrics import confusion_matrix"
   ]
  },
  {
   "cell_type": "code",
   "execution_count": 28,
   "id": "7eb8174c",
   "metadata": {
    "execution": {
     "iopub.execute_input": "2023-10-12T19:09:08.058799Z",
     "iopub.status.busy": "2023-10-12T19:09:08.057804Z",
     "iopub.status.idle": "2023-10-12T19:09:08.071413Z",
     "shell.execute_reply": "2023-10-12T19:09:08.070539Z"
    },
    "papermill": {
     "duration": 0.031249,
     "end_time": "2023-10-12T19:09:08.073940",
     "exception": false,
     "start_time": "2023-10-12T19:09:08.042691",
     "status": "completed"
    },
    "tags": []
   },
   "outputs": [],
   "source": [
    "y_pred1 = model1.predict(x_test)\n",
    "y_pred2 = model2.predict(x_test)\n",
    "y_pred3 = model3.predict(x_test)"
   ]
  },
  {
   "cell_type": "code",
   "execution_count": 29,
   "id": "5209b7b8",
   "metadata": {
    "execution": {
     "iopub.execute_input": "2023-10-12T19:09:08.103879Z",
     "iopub.status.busy": "2023-10-12T19:09:08.102934Z",
     "iopub.status.idle": "2023-10-12T19:09:08.110518Z",
     "shell.execute_reply": "2023-10-12T19:09:08.109716Z"
    },
    "papermill": {
     "duration": 0.02544,
     "end_time": "2023-10-12T19:09:08.113201",
     "exception": false,
     "start_time": "2023-10-12T19:09:08.087761",
     "status": "completed"
    },
    "tags": []
   },
   "outputs": [],
   "source": [
    "conf_matrix1 = confusion_matrix(y_test, y_pred1)\n",
    "conf_matrix2 = confusion_matrix(y_test, y_pred2)\n",
    "conf_matrix3 = confusion_matrix(y_test, y_pred3)"
   ]
  },
  {
   "cell_type": "code",
   "execution_count": 30,
   "id": "177434a2",
   "metadata": {
    "execution": {
     "iopub.execute_input": "2023-10-12T19:09:08.144974Z",
     "iopub.status.busy": "2023-10-12T19:09:08.144362Z",
     "iopub.status.idle": "2023-10-12T19:09:08.435219Z",
     "shell.execute_reply": "2023-10-12T19:09:08.434124Z"
    },
    "papermill": {
     "duration": 0.308574,
     "end_time": "2023-10-12T19:09:08.437456",
     "exception": false,
     "start_time": "2023-10-12T19:09:08.128882",
     "status": "completed"
    },
    "tags": []
   },
   "outputs": [
    {
     "data": {
      "image/png": "[encoded data removed]",
      "text/plain": [
       "<Figure size 800x600 with 2 Axes>"
      ]
     },
     "metadata": {},
     "output_type": "display_data"
    }
   ],
   "source": [
    "plt.figure(figsize=(8, 6))\n",
    "sns.heatmap(conf_matrix1, annot=True, fmt='d', cmap='Blues', xticklabels=np.unique(Y), yticklabels=np.unique(Y))\n",
    "plt.xlabel('Predicted Label')\n",
    "plt.ylabel('True Label')\n",
    "plt.title('Confusion Matrix of Logistic Regression')\n",
    "plt.show()"
   ]
  },
  {
   "cell_type": "code",
   "execution_count": 31,
   "id": "47d471e5",
   "metadata": {
    "execution": {
     "iopub.execute_input": "2023-10-12T19:09:08.467274Z",
     "iopub.status.busy": "2023-10-12T19:09:08.466871Z",
     "iopub.status.idle": "2023-10-12T19:09:08.758472Z",
     "shell.execute_reply": "2023-10-12T19:09:08.757195Z"
    },
    "papermill": {
     "duration": 0.309378,
     "end_time": "2023-10-12T19:09:08.761057",
     "exception": false,
     "start_time": "2023-10-12T19:09:08.451679",
     "status": "completed"
    },
    "tags": []
   },
   "outputs": [
    {
     "data": {
      "image/png": "[encoded data removed]",
      "text/plain": [
       "<Figure size 800x600 with 2 Axes>"
      ]
     },
     "metadata": {},
     "output_type": "display_data"
    }
   ],
   "source": [
    "plt.figure(figsize=(8, 6))\n",
    "sns.heatmap(conf_matrix2, annot=True, fmt='d', cmap='Blues', xticklabels=np.unique(Y), yticklabels=np.unique(Y))\n",
    "plt.xlabel('Predicted Label')\n",
    "plt.ylabel('True Label')\n",
    "plt.title('Confusion Matrix of KNN')\n",
    "plt.show()"
   ]
  },
  {
   "cell_type": "code",
   "execution_count": 32,
   "id": "a2bf4b7e",
   "metadata": {
    "execution": {
     "iopub.execute_input": "2023-10-12T19:09:08.792849Z",
     "iopub.status.busy": "2023-10-12T19:09:08.791774Z",
     "iopub.status.idle": "2023-10-12T19:09:09.085111Z",
     "shell.execute_reply": "2023-10-12T19:09:09.083820Z"
    },
    "papermill": {
     "duration": 0.311694,
     "end_time": "2023-10-12T19:09:09.087502",
     "exception": false,
     "start_time": "2023-10-12T19:09:08.775808",
     "status": "completed"
    },
    "tags": []
   },
   "outputs": [
    {
     "data": {
      "image/png": "[encoded data removed]",
      "text/plain": [
       "<Figure size 800x600 with 2 Axes>"
      ]
     },
     "metadata": {},
     "output_type": "display_data"
    }
   ],
   "source": [
    "plt.figure(figsize=(8, 6))\n",
    "sns.heatmap(conf_matrix3, annot=True, fmt='d', cmap='Blues', xticklabels=np.unique(Y), yticklabels=np.unique(Y))\n",
    "plt.xlabel('Predicted Label')\n",
    "plt.ylabel('True Label')\n",
    "plt.title('Confusion Matrix of Decision Tree')\n",
    "plt.show()"
   ]
  },
  {
   "cell_type": "code",
   "execution_count": null,
   "id": "c817062e",
   "metadata": {
    "papermill": {
     "duration": 0.015077,
     "end_time": "2023-10-12T19:09:09.118050",
     "exception": false,
     "start_time": "2023-10-12T19:09:09.102973",
     "status": "completed"
    },
    "tags": []
   },
   "outputs": [],
   "source": []
  }
 ],
 "metadata": {
  "kernelspec": {
   "display_name": "Python 3",
   "language": "python",
   "name": "python3"
  },
  "language_info": {
   "codemirror_mode": {
    "name": "ipython",
    "version": 3
   },
   "file_extension": ".py",
   "mimetype": "text/x-python",
   "name": "python",
   "nbconvert_exporter": "python",
   "pygments_lexer": "ipython3",
   "version": "3.10.12"
  },
  "papermill": {
   "default_parameters": {},
   "duration": 14.462826,
   "end_time": "2023-10-12T19:09:09.958339",
   "environment_variables": {},
   "exception": null,
   "input_path": "__notebook__.ipynb",
   "output_path": "__notebook__.ipynb",
   "parameters": {},
   "start_time": "2023-10-12T19:08:55.495513",
   "version": "2.4.0"
  }
 },
 "nbformat": 4,
 "nbformat_minor": 5
}
